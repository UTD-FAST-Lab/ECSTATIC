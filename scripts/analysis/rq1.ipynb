{
 "cells": [
  {
   "cell_type": "code",
   "execution_count": 23,
   "outputs": [
    {
     "data": {
      "text/plain": "        tool       program_set  seed   campaign  violation  direct  \\\n0  flowdroid  droidbench-small  NONE  campaign0  VIOLATION  DIRECT   \n1  flowdroid  droidbench-small  NONE  campaign0  VIOLATION  DIRECT   \n2  flowdroid         fossdroid  NONE  campaign0  VIOLATION  DIRECT   \n\n                            config1                           config2  \\\n0  9d2e230d5859daa359c57aeb0fd090a8  3c2c6c9d6e896c028463ca607b7fce7a   \n1  4f9b34cf1904a0ff769463243bdcfe18  3c2c6c9d6e896c028463ca607b7fce7a   \n2  8f0cf1475ff0a90d31e8c21a00731724  3c2c6c9d6e896c028463ca607b7fce7a   \n\n                            partial_order  \\\n0        analyzeframeworks/TRUE/MST/FALSE   \n1  codeelimination/REMOVECODE/MST/DEFAULT   \n2             aliasflowins/TRUE/MPT/FALSE   \n\n                                             program  \n0                        ActivityLifecycle1.apk.json  \n1                        ActivityLifecycle1.apk.json  \n2  com.angrydoughnuts.android.alarmclock_15-relea...  ",
      "text/html": "<div>\n<style scoped>\n    .dataframe tbody tr th:only-of-type {\n        vertical-align: middle;\n    }\n\n    .dataframe tbody tr th {\n        vertical-align: top;\n    }\n\n    .dataframe thead th {\n        text-align: right;\n    }\n</style>\n<table border=\"1\" class=\"dataframe\">\n  <thead>\n    <tr style=\"text-align: right;\">\n      <th></th>\n      <th>tool</th>\n      <th>program_set</th>\n      <th>seed</th>\n      <th>campaign</th>\n      <th>violation</th>\n      <th>direct</th>\n      <th>config1</th>\n      <th>config2</th>\n      <th>partial_order</th>\n      <th>program</th>\n    </tr>\n  </thead>\n  <tbody>\n    <tr>\n      <th>0</th>\n      <td>flowdroid</td>\n      <td>droidbench-small</td>\n      <td>NONE</td>\n      <td>campaign0</td>\n      <td>VIOLATION</td>\n      <td>DIRECT</td>\n      <td>9d2e230d5859daa359c57aeb0fd090a8</td>\n      <td>3c2c6c9d6e896c028463ca607b7fce7a</td>\n      <td>analyzeframeworks/TRUE/MST/FALSE</td>\n      <td>ActivityLifecycle1.apk.json</td>\n    </tr>\n    <tr>\n      <th>1</th>\n      <td>flowdroid</td>\n      <td>droidbench-small</td>\n      <td>NONE</td>\n      <td>campaign0</td>\n      <td>VIOLATION</td>\n      <td>DIRECT</td>\n      <td>4f9b34cf1904a0ff769463243bdcfe18</td>\n      <td>3c2c6c9d6e896c028463ca607b7fce7a</td>\n      <td>codeelimination/REMOVECODE/MST/DEFAULT</td>\n      <td>ActivityLifecycle1.apk.json</td>\n    </tr>\n    <tr>\n      <th>2</th>\n      <td>flowdroid</td>\n      <td>fossdroid</td>\n      <td>NONE</td>\n      <td>campaign0</td>\n      <td>VIOLATION</td>\n      <td>DIRECT</td>\n      <td>8f0cf1475ff0a90d31e8c21a00731724</td>\n      <td>3c2c6c9d6e896c028463ca607b7fce7a</td>\n      <td>aliasflowins/TRUE/MPT/FALSE</td>\n      <td>com.angrydoughnuts.android.alarmclock_15-relea...</td>\n    </tr>\n  </tbody>\n</table>\n</div>"
     },
     "execution_count": 23,
     "metadata": {},
     "output_type": "execute_result"
    }
   ],
   "source": [
    "import pandas as pd\n",
    "# CHANGE TO THE LOCATION OF YOUR CSV!\n",
    "df = pd.read_csv(\"/home/austin/sample.csv\", header=None)\n",
    "df = df.set_axis(['tool', 'program_set', 'seed', 'campaign', 'violation', 'direct', 'config1', 'config2', 'partial_order','program'], axis='columns')\n",
    "df"
   ],
   "metadata": {
    "collapsed": false
   }
  },
  {
   "cell_type": "markdown",
   "source": [
    "## Summary of Results"
   ],
   "metadata": {
    "collapsed": false
   }
  },
  {
   "cell_type": "code",
   "execution_count": 24,
   "outputs": [
    {
     "data": {
      "text/plain": "tool            flowdroid  All\nprogram_set                   \nmicrobenchmark          2    2\nreal-world              1    1\nAll                     3    3",
      "text/html": "<div>\n<style scoped>\n    .dataframe tbody tr th:only-of-type {\n        vertical-align: middle;\n    }\n\n    .dataframe tbody tr th {\n        vertical-align: top;\n    }\n\n    .dataframe thead th {\n        text-align: right;\n    }\n</style>\n<table border=\"1\" class=\"dataframe\">\n  <thead>\n    <tr style=\"text-align: right;\">\n      <th>tool</th>\n      <th>flowdroid</th>\n      <th>All</th>\n    </tr>\n    <tr>\n      <th>program_set</th>\n      <th></th>\n      <th></th>\n    </tr>\n  </thead>\n  <tbody>\n    <tr>\n      <th>microbenchmark</th>\n      <td>2</td>\n      <td>2</td>\n    </tr>\n    <tr>\n      <th>real-world</th>\n      <td>1</td>\n      <td>1</td>\n    </tr>\n    <tr>\n      <th>All</th>\n      <td>3</td>\n      <td>3</td>\n    </tr>\n  </tbody>\n</table>\n</div>"
     },
     "execution_count": 24,
     "metadata": {},
     "output_type": "execute_result"
    }
   ],
   "source": [
    "transform = df.replace({\n",
    "    \"cats-microbenchmark\":\"microbenchmark\",\n",
    "    \"fossdroid\":\"real_world\",\n",
    "    \"droidbench\":\"microbenchmark\",\n",
    "    \"dacapo-2006\":\"real_world\",\n",
    "    \"droidbench-small\":\"microbenchmark\",\n",
    "    \"cats-small\": \"microbenchmark\",\n",
    "    \"dacapo-small\": \"real-world\"})\n",
    "pvt = pd.pivot_table(transform, index='program_set', values='partial_order', columns=['tool'], aggfunc=lambda x: len(x.unique()), margins=True)\n",
    "pvt"
   ],
   "metadata": {
    "collapsed": false
   }
  },
  {
   "cell_type": "markdown",
   "source": [
    "## Only Base Configuration Testing Results"
   ],
   "metadata": {
    "collapsed": false
   }
  },
  {
   "cell_type": "code",
   "execution_count": 25,
   "outputs": [
    {
     "data": {
      "text/plain": "tool            flowdroid  All\nprogram_set                   \nmicrobenchmark          2    2\nreal-world              1    1\nAll                     3    3",
      "text/html": "<div>\n<style scoped>\n    .dataframe tbody tr th:only-of-type {\n        vertical-align: middle;\n    }\n\n    .dataframe tbody tr th {\n        vertical-align: top;\n    }\n\n    .dataframe thead th {\n        text-align: right;\n    }\n</style>\n<table border=\"1\" class=\"dataframe\">\n  <thead>\n    <tr style=\"text-align: right;\">\n      <th>tool</th>\n      <th>flowdroid</th>\n      <th>All</th>\n    </tr>\n    <tr>\n      <th>program_set</th>\n      <th></th>\n      <th></th>\n    </tr>\n  </thead>\n  <tbody>\n    <tr>\n      <th>microbenchmark</th>\n      <td>2</td>\n      <td>2</td>\n    </tr>\n    <tr>\n      <th>real-world</th>\n      <td>1</td>\n      <td>1</td>\n    </tr>\n    <tr>\n      <th>All</th>\n      <td>3</td>\n      <td>3</td>\n    </tr>\n  </tbody>\n</table>\n</div>"
     },
     "execution_count": 25,
     "metadata": {},
     "output_type": "execute_result"
    }
   ],
   "source": [
    "pvt = pd.pivot_table(transform[transform.seed == 'NONE'], index='program_set', values='partial_order', columns=['tool'],\n",
    "                     aggfunc=lambda x: len(x.unique()), margins=True)\n",
    "pvt"
   ],
   "metadata": {
    "collapsed": false
   }
  },
  {
   "cell_type": "markdown",
   "source": [
    "## Figure 6"
   ],
   "metadata": {
    "collapsed": false
   }
  },
  {
   "cell_type": "code",
   "execution_count": 30,
   "outputs": [
    {
     "ename": "SyntaxError",
     "evalue": "':' expected after dictionary key (2581596566.py, line 15)",
     "output_type": "error",
     "traceback": [
      "\u001B[0;36m  Cell \u001B[0;32mIn[30], line 15\u001B[0;36m\u001B[0m\n\u001B[0;31m    \"\"})\u001B[0m\n\u001B[0m     ^\u001B[0m\n\u001B[0;31mSyntaxError\u001B[0m\u001B[0;31m:\u001B[0m ':' expected after dictionary key\n"
     ]
    }
   ],
   "source": [
    "import matplotlib.pyplot as plt\n",
    "plt.close(\"all\")\n",
    "\n",
    "plt.rc(\"font\", size=14)\n",
    "\n",
    "fig, ax = plt.subplots(figsize=(7,3))\n",
    "\n",
    "to_plot = df[[\"partial_order\",\"program_set\"]]\n",
    "to_plot = to_plot.replace({\n",
    "    \"cats-microbenchmark\":\"microbenchmark\",\n",
    "    \"fossdroid\":\"real_world\",\n",
    "    \"droidbench\":\"microbenchmark\",\n",
    "    \"dacapo-2006\":\"real_world\",\n",
    "    \"droidbench-small\":\"microbenchmark\",\n",
    "    \"cats-small\": \"microbenchmark\",\n",
    "    \"dacapo-small\": \"real-world\"})\n",
    "pvt = to_plot.pivot_table(index=\"partial_order\", columns=\"program_set\", values=\"partial_order\", aggfunc=lambda x: len(x)).fillna(0)\n",
    "pvt['total'] = pvt.microbenchmark + pvt.real_world\n",
    "pvt = pvt.sort_values('total')\n",
    "pvt\n",
    "\n",
    "ax.bar(pvt.index, pvt.microbenchmark, label=\"Microbenchmark\")\n",
    "ax.bar(pvt.index, pvt.real_world, bottom=pvt.microbenchmark, label=\"Real-World\")\n",
    "\n",
    "ax.set_xticklabels(\"\")\n",
    "ax.set_yticks(range(0, 28, 4))\n",
    "ax.set_xlabel(\"Partial Order Bugs\")\n",
    "ax.set_ylabel(\"Number of Programs\")\n",
    "ax.legend()\n",
    "plt.margins(x=0.01)\n",
    "plt.show()"
   ],
   "metadata": {
    "collapsed": false
   }
  },
  {
   "cell_type": "code",
   "execution_count": null,
   "outputs": [],
   "source": [],
   "metadata": {
    "collapsed": false
   }
  }
 ],
 "metadata": {
  "kernelspec": {
   "display_name": "Python 3",
   "language": "python",
   "name": "python3"
  },
  "language_info": {
   "codemirror_mode": {
    "name": "ipython",
    "version": 2
   },
   "file_extension": ".py",
   "mimetype": "text/x-python",
   "name": "python",
   "nbconvert_exporter": "python",
   "pygments_lexer": "ipython2",
   "version": "2.7.6"
  }
 },
 "nbformat": 4,
 "nbformat_minor": 0
}
